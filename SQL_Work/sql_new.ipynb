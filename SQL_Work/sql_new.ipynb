{
 "cells": [
  {
   "cell_type": "code",
   "execution_count": 3,
   "id": "bb27617f-ed91-470f-ab4e-8fd5c23a7999",
   "metadata": {},
   "outputs": [
    {
     "name": "stdout",
     "output_type": "stream",
     "text": [
      "Requirement already satisfied: python-dotenv in c:\\users\\tanguy\\anaconda3\\lib\\site-packages (0.21.0)\n",
      "Note: you may need to restart the kernel to use updated packages.\n"
     ]
    }
   ],
   "source": [
    "pip install python-dotenv"
   ]
  },
  {
   "cell_type": "code",
   "execution_count": 4,
   "id": "6df6d731-992d-47df-8f98-724f3215c9fe",
   "metadata": {},
   "outputs": [],
   "source": [
    "import pandas as pd\n",
    "import mysql.connector\n",
    "import re\n",
    "from dotenv import load_dotenv\n",
    "import os"
   ]
  },
  {
   "cell_type": "code",
   "execution_count": 23,
   "id": "3ed6b35c-9818-45be-93f5-3108cec3887f",
   "metadata": {},
   "outputs": [],
   "source": [
    "df_faire=pd.read_csv('faire_cleaned.csv')\n",
    "df_paris_data=pd.read_csv('paris_data_cleaned.csv')\n",
    "df_detailed_places=pd.read_csv('detailed_places_cleaned.csv')\n",
    "data=pd.read_csv(\"data_cleaned.csv\")\n",
    "df_kf_places_paris=pd.read_csv('kf_places_paris_cleaned.csv')\n",
    "df_parks_with_playground=pd.read_csv('parks_with_playground_cleaned.csv')"
   ]
  },
  {
   "cell_type": "code",
   "execution_count": 25,
   "id": "a8104958-c28d-4050-af0c-c83abddbbbcc",
   "metadata": {},
   "outputs": [],
   "source": [
    "#Dropping innecesary columns\n",
    "df_detailed_places=df_detailed_places.drop(columns=['rating','total_ratings'])\n",
    "df_parks_with_playground=df_parks_with_playground.drop(columns=[\"Ancien nom de l'espace vert\",\"Année de l'ouverture\",])\n",
    "df_faire=df_faire.drop(columns=['audience',\"Type d'accès\",])\n",
    "df_paris_data=df_paris_data.drop(columns=['Name Arrondissement.1','Arrondissement'])\n",
    "data=data.drop(columns=['rating','total_ratings','more_kids_friendly_weighted_sentiment','kids_friendly_sentiment'])\n",
    "df_kf_places_paris=df_kf_places_paris.drop(columns=['rating',\"arrondissement\",'user_ratings_total','zip_code',])"
   ]
  },
  {
   "cell_type": "code",
   "execution_count": 47,
   "id": "6c1e5f01-4306-4cc6-a01a-917ab3f9b636",
   "metadata": {},
   "outputs": [],
   "source": [
    "#Connection to SQL\n",
    "load_dotenv()\n",
    "\n",
    "DB_HOST = os.getenv(\"DB_HOST\")\n",
    "DB_USER = os.getenv(\"DB_USER\")\n",
    "DB_PASSWORD = os.getenv(\"DB_PASSWORD\")\n",
    "DB_NAME = os.getenv(\"DB_NAME\")\n",
    "\n",
    "\n",
    "conn = mysql.connector.connect(\n",
    "    host=DB_HOST,\n",
    "    user=DB_USER,\n",
    "    password=DB_PASSWORD,\n",
    "    database=DB_NAME\n",
    ")\n",
    "cursor = conn.cursor()"
   ]
  },
  {
   "cell_type": "code",
   "execution_count": 29,
   "id": "561e61cf-2c3d-4390-998d-7d6e944f64b4",
   "metadata": {},
   "outputs": [
    {
     "name": "stdout",
     "output_type": "stream",
     "text": [
      "Traitement du fichier : cleaned_ddetailed_kids_friendly_places_paris_with_reviews.csv pour la table : detailed_places\n",
      "Traitement du fichier : espaces_verts.csv pour la table : parks_with_playground\n",
      "Traitement du fichier : qque-faire-a-paris-.csv pour la table : faire\n",
      "Traitement du fichier : ppopulation_paris_2021.csv pour la table : paris_data\n",
      "Traitement du fichier : Gral_df_Scores.csv pour la table : data\n",
      "Traitement du fichier : extra_kfplaces_paris.csv pour la table : kf_places_paris\n",
      "Importation finish.\n"
     ]
    }
   ],
   "source": [
    "# Dataset to send to sql\n",
    "datasets = {\n",
    "    \"detailed_places\": \"cleaned_ddetailed_kids_friendly_places_paris_with_reviews.csv\",\n",
    "    \"parks_with_playground\": \"espaces_verts.csv\",\n",
    "    \"faire\": \"qque-faire-a-paris-.csv\",\n",
    "    \"paris_data\": \"ppopulation_paris_2021.csv\",\n",
    "    \"data\": \"Gral_df_Scores.csv\",\n",
    "    \"kf_places_paris\": \"extra_kfplaces_paris.csv\"\n",
    "}\n",
    "\n",
    "#The columns expected\n",
    "expected_columns = {\n",
    "    \"detailed_places\": ['name', 'type', 'vicinity', 'formatted_address', 'website',\n",
    "                        'phone_number', 'opening_hours', 'reviews', 'zipcode',\n",
    "                        'unique_id', 'type_id', 'df_id', 'df_unique_id'],\n",
    "    \"parks_with_playground\": ['unique_id', 'nom_espace_vert', 'typologie_espace_vert', 'categorie',\n",
    "                              'zipcode', 'surface_calculee', 'superficie_totale_reelle', 'perimetre',\n",
    "                              'site_villes', 'geo_shape', 'url_plan', 'geo_point', 'adresse', 'type',\n",
    "                              'type_id', 'df_id', 'df_unique_id'],\n",
    "    \"faire\": ['unique_id', 'url', 'titre', 'chapeau', 'description', 'description_date', 'nom_lieu',\n",
    "              'adresse_lieu', 'zipcode', 'ville', 'coordonnees_geographiques', 'type_prix', 'groupe',\n",
    "              'locale', 'month_debut', 'year_debut', 'month_fin', 'year_fin', 'type', 'type_id',\n",
    "              'df_id', 'df_unique_id'],\n",
    "    \"paris_data\": ['name_arrondissement', 'surface_ha', 'population_2020',\n",
    "                   'density_2021_hab_km2', 'zipcode'],\n",
    "    \"data\": ['name', 'vicinity', 'formatted_address', 'website', 'phone_number',\n",
    "             'opening_hours', 'reviews', 'latitude', 'longitude', 'proche_park',\n",
    "             'kids_mentions_count', 'zipcode', 'unique_id', 'kids_friendly', 'type',\n",
    "             'type_id', 'df_id', 'df_unique_id'],\n",
    "    \"kf_places_paris\": ['name', 'vicinity', 'type', 'latitude', 'longitude',\n",
    "                        'zipcode', 'unique_id', 'type_id', 'df_id', 'df_unique_id']\n",
    "}\n",
    "\n",
    "# Founction to clen every csv\n",
    "def clean_data(df):\n",
    "    def remove_emojis(text):\n",
    "        emoji_pattern = re.compile(\n",
    "            \"[\"                               \n",
    "            \"\\U0001F600-\\U0001F64F\"  # Emoticons\n",
    "            \"\\U0001F300-\\U0001F5FF\"  # Symboles and pictogrammes divers\n",
    "            \"\\U0001F680-\\U0001F6FF\"  # Transports and symboles\n",
    "            \"\\U0001F1E0-\\U0001F1FF\"  # Flgs\n",
    "            \"\\U00002500-\\U00002BEF\"  # Other stuff\n",
    "            \"\\U00002702-\\U000027B0\"  # Symboles divers\n",
    "            \"\\U0001F900-\\U0001F9FF\"  # Emoji divers\n",
    "            \"\\U0001FA70-\\U0001FAFF\"  # More emojis\n",
    "            \"\\U00002600-\\U000026FF\"  # Symboles divers\n",
    "            \"]+\", \n",
    "            flags=re.UNICODE\n",
    "        )\n",
    "        return emoji_pattern.sub(r'', text)\n",
    "\n",
    "    for column in df.columns:\n",
    "        if pd.api.types.is_numeric_dtype(df[column]):\n",
    "            df[column] = pd.to_numeric(df[column], errors=\"coerce\").fillna(0)\n",
    "        elif pd.api.types.is_string_dtype(df[column]):\n",
    "            df[column] = df[column].astype(str).str.strip().replace(\"nan\", \"\").fillna(\"\")\n",
    "            df[column] = df[column].apply(remove_emojis)\n",
    "\n",
    "            if column == 'zipcode':\n",
    "                df[column] = df[column].str[:10]\n",
    "    return df\n",
    "\n",
    "# Function to insert the dato to sql\n",
    "def insert_data(df, table_name):\n",
    "    placeholders = \", \".join([\"%s\"] * len(df.columns))\n",
    "    columns = \", \".join([f\"`{col}`\" for col in df.columns])\n",
    "\n",
    "    # DUPLICATE KEY UPDATE\n",
    "    update_clause = \", \".join([f\"`{col}`=VALUES(`{col}`)\" for col in df.columns if col != 'unique_id'])\n",
    "\n",
    "    query = f\"\"\"\n",
    "    INSERT INTO `{table_name}` ({columns}) VALUES ({placeholders})\n",
    "    ON DUPLICATE KEY UPDATE {update_clause};\n",
    "    \"\"\"\n",
    "\n",
    "    for _, row in df.iterrows():\n",
    "        cursor.execute(query, tuple(row))\n",
    "    conn.commit()\n",
    "\n",
    "# for each dataset\n",
    "for table_name, file_path in datasets.items():\n",
    "    print(f\"Traitement du fichier : {file_path} pour la table : {table_name}\")\n",
    "\n",
    "    \n",
    "    df = pd.read_csv(file_path, encoding=\"utf-8\", index_col=False)\n",
    "\n",
    "  \n",
    "    if table_name in expected_columns:\n",
    "        actual_columns = df.columns.tolist()\n",
    "        expected = expected_columns[table_name]\n",
    "\n",
    "        for col in set(expected) - set(actual_columns):\n",
    "            df[col] = None  \n",
    "        df = df.reindex(columns=expected)\n",
    "\n",
    "    # Cleaning the data\n",
    "    df = clean_data(df)\n",
    "\n",
    "    # Drop the duplicate in case\n",
    "    if 'unique_id' in df.columns:\n",
    "        df = df.drop_duplicates(subset='unique_id', keep='first')\n",
    "\n",
    "    # Get the data into sql\n",
    "    insert_data(df, table_name)\n",
    "\n",
    "print(\"Importation finish.\")\n",
    "cursor.close()\n",
    "conn.close()"
   ]
  },
  {
   "cell_type": "code",
   "execution_count": null,
   "id": "aee2670d-c527-4974-bcf8-6a0813fbf2ad",
   "metadata": {},
   "outputs": [],
   "source": [
    "#Normalized data for bigquery\n",
    "\n",
    "df_faire=pd.read_excel(r'C:\\Users\\Tanguy\\Documents\\IRONHACK\\Week8\\Kids friendly projet\\mysql_kf\\normalized\\qque-faire-a-paris-.xlsx')\n",
    "data=pd.read_excel(r'C:\\Users\\Tanguy\\Documents\\IRONHACK\\Week8\\Kids friendly projet\\mysql_kf\\normalized\\Gral_df_Scores.xlsx')\n",
    "df_kf_places_paris=pd.read_excel(r'C:\\Users\\Tanguy\\Documents\\IRONHACK\\Week8\\Kids friendly projet\\mysql_kf\\normalized\\extra_kfplaces_paris.xlsx')\n",
    "df_parks_with_playground=pd.read_excel(r'C:\\Users\\Tanguy\\Documents\\IRONHACK\\Week8\\Kids friendly projet\\mysql_kf\\normalized\\espaces_verts.xlsx')"
   ]
  },
  {
   "cell_type": "code",
   "execution_count": null,
   "id": "b0b3141d-ac0f-4625-afcf-21b2043ee4f0",
   "metadata": {},
   "outputs": [],
   "source": [
    "df_normalized = pd.concat([df_faire, data, df_kf_places_paris, df_parks_with_playground], axis=0, ignore_index=True, sort=False)\n",
    "df_normalized.to_excel('normalized_df.xlsx')\n",
    "df_normalized.to_csv('normalized_df.csv')"
   ]
  },
  {
   "cell_type": "code",
   "execution_count": null,
   "id": "40374196-f59f-4bc3-ab46-2ef61fcd35fb",
   "metadata": {},
   "outputs": [],
   "source": []
  }
 ],
 "metadata": {
  "kernelspec": {
   "display_name": "Python 3 (ipykernel)",
   "language": "python",
   "name": "python3"
  },
  "language_info": {
   "codemirror_mode": {
    "name": "ipython",
    "version": 3
   },
   "file_extension": ".py",
   "mimetype": "text/x-python",
   "name": "python",
   "nbconvert_exporter": "python",
   "pygments_lexer": "ipython3",
   "version": "3.12.4"
  }
 },
 "nbformat": 4,
 "nbformat_minor": 5
}
